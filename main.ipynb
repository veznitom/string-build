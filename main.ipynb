{
 "cells": [
  {
   "cell_type": "code",
   "execution_count": 64,
   "metadata": {},
   "outputs": [],
   "source": [
    "def overlap(intervals, inter):\n",
    "  for i in intervals:\n",
    "    if max(i[1][1], inter[1]) - min(i[1][0], inter[0]) <= (i[1][1] - i[1][0]) + (inter[1] - inter[0]):\n",
    "      return True\n",
    "  return False"
   ]
  },
  {
   "cell_type": "code",
   "execution_count": 65,
   "metadata": {},
   "outputs": [],
   "source": [
    "def seek(a: str, b : str) -> str:\n",
    "  sa = set(a)\n",
    "  sb = set(b)\n",
    "\n",
    "  if not sb.issubset(sa):\n",
    "    return ''\n",
    "\n",
    "  parts = {}\n",
    "  for i in range(0,len(b)+1):\n",
    "    for j in range(i, len(b)+1):\n",
    "      parts[b[i:j]] = (-1,-1)\n",
    "\n",
    "  for p in parts:\n",
    "    index = a.find(p)\n",
    "    if index > -1:\n",
    "      parts[p] = (index,index+len(p))\n",
    "\n",
    "  segments = []\n",
    "\n",
    "  for p in parts:\n",
    "    if parts[p][0] > -1:\n",
    "      segments.append((p,(parts[p])))\n",
    "\n",
    "\n",
    "  segments.sort(key=lambda x: len(x[0]))\n",
    "  segments.reverse()\n",
    "  display(segments)\n",
    "  \n",
    "  indexed = b\n",
    "  for s in segments:\n",
    "    if len(s[0]) > 0:\n",
    "      txt = str('('+str(s[1][0])+','+str(s[1][1])+')')\n",
    "      indexed = indexed.replace(s[0],txt)\n",
    "  \n",
    "  return(indexed)"
   ]
  },
  {
   "cell_type": "code",
   "execution_count": 66,
   "metadata": {},
   "outputs": [
    {
     "data": {
      "text/plain": [
       "[('ell', (414, 417)),\n",
       " ('lo', (267, 269)),\n",
       " ('ll', (176, 178)),\n",
       " ('el', (215, 217)),\n",
       " ('o', (5, 6)),\n",
       " ('l', (83, 84)),\n",
       " ('e', (9, 10)),\n",
       " ('H', (0, 1)),\n",
       " ('', (0, 0))]"
      ]
     },
     "metadata": {},
     "output_type": "display_data"
    },
    {
     "data": {
      "text/plain": [
       "'(0,1)(414,417)(5,6)'"
      ]
     },
     "metadata": {},
     "output_type": "display_data"
    }
   ],
   "source": [
    "a = ''.join(open('input_a.txt','r').readlines())\n",
    "b = ''.join(open('input_b.txt','r').readlines())\n",
    "display(seek(a,b))"
   ]
  }
 ],
 "metadata": {
  "kernelspec": {
   "display_name": "Python 3",
   "language": "python",
   "name": "python3"
  },
  "language_info": {
   "codemirror_mode": {
    "name": "ipython",
    "version": 3
   },
   "file_extension": ".py",
   "mimetype": "text/x-python",
   "name": "python",
   "nbconvert_exporter": "python",
   "pygments_lexer": "ipython3",
   "version": "3.10.6"
  },
  "orig_nbformat": 4,
  "vscode": {
   "interpreter": {
    "hash": "916dbcbb3f70747c44a77c7bcd40155683ae19c65e1c03b4aa3499c5328201f1"
   }
  }
 },
 "nbformat": 4,
 "nbformat_minor": 2
}
